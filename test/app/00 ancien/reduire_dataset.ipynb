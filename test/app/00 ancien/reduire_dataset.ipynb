{
 "cells": [
  {
   "cell_type": "code",
   "execution_count": 1,
   "metadata": {},
   "outputs": [],
   "source": [
    "import geopandas as gpd\n",
    "import pandas as pd"
   ]
  },
  {
   "cell_type": "code",
   "execution_count": 8,
   "metadata": {},
   "outputs": [
    {
     "data": {
      "text/html": [
       "<div>\n",
       "<style scoped>\n",
       "    .dataframe tbody tr th:only-of-type {\n",
       "        vertical-align: middle;\n",
       "    }\n",
       "\n",
       "    .dataframe tbody tr th {\n",
       "        vertical-align: top;\n",
       "    }\n",
       "\n",
       "    .dataframe thead th {\n",
       "        text-align: right;\n",
       "    }\n",
       "</style>\n",
       "<table border=\"1\" class=\"dataframe\">\n",
       "  <thead>\n",
       "    <tr style=\"text-align: right;\">\n",
       "      <th></th>\n",
       "      <th>EGID</th>\n",
       "      <th>ADRESSE</th>\n",
       "      <th>ANNEE</th>\n",
       "      <th>SRE</th>\n",
       "      <th>INDICE</th>\n",
       "      <th>geometry</th>\n",
       "    </tr>\n",
       "  </thead>\n",
       "  <tbody>\n",
       "    <tr>\n",
       "      <th>0</th>\n",
       "      <td>1011010.0</td>\n",
       "      <td>Rue CAVOUR 20</td>\n",
       "      <td>2011</td>\n",
       "      <td>1525.9</td>\n",
       "      <td>577.0</td>\n",
       "      <td>MULTIPOLYGON (((6.13290 46.20727, 6.13282 46.2...</td>\n",
       "    </tr>\n",
       "    <tr>\n",
       "      <th>1</th>\n",
       "      <td>1011010.0</td>\n",
       "      <td>Rue CAVOUR 20</td>\n",
       "      <td>2012</td>\n",
       "      <td>1525.9</td>\n",
       "      <td>536.0</td>\n",
       "      <td>MULTIPOLYGON (((6.13290 46.20727, 6.13282 46.2...</td>\n",
       "    </tr>\n",
       "    <tr>\n",
       "      <th>2</th>\n",
       "      <td>1011616.0</td>\n",
       "      <td>Rue du Prieuré 1</td>\n",
       "      <td>2011</td>\n",
       "      <td>1401.9</td>\n",
       "      <td>653.0</td>\n",
       "      <td>MULTIPOLYGON (((6.14909 46.21319, 6.14903 46.2...</td>\n",
       "    </tr>\n",
       "    <tr>\n",
       "      <th>3</th>\n",
       "      <td>1011616.0</td>\n",
       "      <td>Rue du Prieuré 1</td>\n",
       "      <td>2012</td>\n",
       "      <td>1401.9</td>\n",
       "      <td>677.0</td>\n",
       "      <td>MULTIPOLYGON (((6.14909 46.21319, 6.14903 46.2...</td>\n",
       "    </tr>\n",
       "    <tr>\n",
       "      <th>4</th>\n",
       "      <td>1014985.0</td>\n",
       "      <td>Rue du Grand-Pré 49</td>\n",
       "      <td>2011</td>\n",
       "      <td>1874.6</td>\n",
       "      <td>633.0</td>\n",
       "      <td>MULTIPOLYGON (((6.13317 46.21489, 6.13315 46.2...</td>\n",
       "    </tr>\n",
       "  </tbody>\n",
       "</table>\n",
       "</div>"
      ],
      "text/plain": [
       "        EGID              ADRESSE  ANNEE     SRE  INDICE  \\\n",
       "0  1011010.0        Rue CAVOUR 20   2011  1525.9   577.0   \n",
       "1  1011010.0        Rue CAVOUR 20   2012  1525.9   536.0   \n",
       "2  1011616.0     Rue du Prieuré 1   2011  1401.9   653.0   \n",
       "3  1011616.0     Rue du Prieuré 1   2012  1401.9   677.0   \n",
       "4  1014985.0  Rue du Grand-Pré 49   2011  1874.6   633.0   \n",
       "\n",
       "                                            geometry  \n",
       "0  MULTIPOLYGON (((6.13290 46.20727, 6.13282 46.2...  \n",
       "1  MULTIPOLYGON (((6.13290 46.20727, 6.13282 46.2...  \n",
       "2  MULTIPOLYGON (((6.14909 46.21319, 6.14903 46.2...  \n",
       "3  MULTIPOLYGON (((6.14909 46.21319, 6.14903 46.2...  \n",
       "4  MULTIPOLYGON (((6.13317 46.21489, 6.13315 46.2...  "
      ]
     },
     "metadata": {},
     "output_type": "display_data"
    },
    {
     "data": {
      "text/plain": [
       "(183981, 6)"
      ]
     },
     "metadata": {},
     "output_type": "display_data"
    }
   ],
   "source": [
    "# load geojson indice3ans_epsg_4326.geojson\n",
    "df1 = gpd.read_file(r\"indice3ans_epsg_4326_light.geojson\")\n",
    "display(df1.head(),df1.shape)"
   ]
  },
  {
   "cell_type": "code",
   "execution_count": 12,
   "metadata": {},
   "outputs": [
    {
     "data": {
      "text/html": [
       "<div>\n",
       "<style scoped>\n",
       "    .dataframe tbody tr th:only-of-type {\n",
       "        vertical-align: middle;\n",
       "    }\n",
       "\n",
       "    .dataframe tbody tr th {\n",
       "        vertical-align: top;\n",
       "    }\n",
       "\n",
       "    .dataframe thead th {\n",
       "        text-align: right;\n",
       "    }\n",
       "</style>\n",
       "<table border=\"1\" class=\"dataframe\">\n",
       "  <thead>\n",
       "    <tr style=\"text-align: right;\">\n",
       "      <th></th>\n",
       "      <th>EGID</th>\n",
       "      <th>ADRESSE</th>\n",
       "      <th>ANNEE</th>\n",
       "      <th>SRE</th>\n",
       "      <th>INDICE</th>\n",
       "      <th>geometry</th>\n",
       "    </tr>\n",
       "  </thead>\n",
       "  <tbody>\n",
       "    <tr>\n",
       "      <th>136772</th>\n",
       "      <td>2037225.0</td>\n",
       "      <td>rue corraterie 22</td>\n",
       "      <td>2017</td>\n",
       "      <td>1519.0</td>\n",
       "      <td>211.0</td>\n",
       "      <td>MULTIPOLYGON (((6.14325 46.20230, 6.14317 46.2...</td>\n",
       "    </tr>\n",
       "    <tr>\n",
       "      <th>106515</th>\n",
       "      <td>1015379.0</td>\n",
       "      <td>Avenue De-BUDÉ 3</td>\n",
       "      <td>2017</td>\n",
       "      <td>2162.0</td>\n",
       "      <td>526.0</td>\n",
       "      <td>MULTIPOLYGON (((6.13131 46.22429, 6.13117 46.2...</td>\n",
       "    </tr>\n",
       "    <tr>\n",
       "      <th>164179</th>\n",
       "      <td>2038258.0</td>\n",
       "      <td>Avenue SORET 30</td>\n",
       "      <td>2021</td>\n",
       "      <td>2593.8</td>\n",
       "      <td>406.0</td>\n",
       "      <td>MULTIPOLYGON (((6.12495 46.21152, 6.12495 46.2...</td>\n",
       "    </tr>\n",
       "    <tr>\n",
       "      <th>25848</th>\n",
       "      <td>2039242.0</td>\n",
       "      <td>Rue du Marché 11 - Rue du Rhône 46</td>\n",
       "      <td>2011</td>\n",
       "      <td>11131.0</td>\n",
       "      <td>225.0</td>\n",
       "      <td>MULTIPOLYGON (((6.14653 46.20359, 6.14650 46.2...</td>\n",
       "    </tr>\n",
       "    <tr>\n",
       "      <th>117456</th>\n",
       "      <td>295157513.0</td>\n",
       "      <td>Rue Edouard-VALLET 18</td>\n",
       "      <td>2018</td>\n",
       "      <td>2935.6</td>\n",
       "      <td>235.0</td>\n",
       "      <td>MULTIPOLYGON (((6.09080 46.18246, 6.09074 46.1...</td>\n",
       "    </tr>\n",
       "  </tbody>\n",
       "</table>\n",
       "</div>"
      ],
      "text/plain": [
       "               EGID                             ADRESSE  ANNEE      SRE  \\\n",
       "136772    2037225.0                   rue corraterie 22   2017   1519.0   \n",
       "106515    1015379.0                    Avenue De-BUDÉ 3   2017   2162.0   \n",
       "164179    2038258.0                     Avenue SORET 30   2021   2593.8   \n",
       "25848     2039242.0  Rue du Marché 11 - Rue du Rhône 46   2011  11131.0   \n",
       "117456  295157513.0               Rue Edouard-VALLET 18   2018   2935.6   \n",
       "\n",
       "        INDICE                                           geometry  \n",
       "136772   211.0  MULTIPOLYGON (((6.14325 46.20230, 6.14317 46.2...  \n",
       "106515   526.0  MULTIPOLYGON (((6.13131 46.22429, 6.13117 46.2...  \n",
       "164179   406.0  MULTIPOLYGON (((6.12495 46.21152, 6.12495 46.2...  \n",
       "25848    225.0  MULTIPOLYGON (((6.14653 46.20359, 6.14650 46.2...  \n",
       "117456   235.0  MULTIPOLYGON (((6.09080 46.18246, 6.09074 46.1...  "
      ]
     },
     "metadata": {},
     "output_type": "display_data"
    },
    {
     "data": {
      "text/plain": [
       "(18398, 6)"
      ]
     },
     "metadata": {},
     "output_type": "display_data"
    },
    {
     "ename": "NameError",
     "evalue": "name 'by' is not defined",
     "output_type": "error",
     "traceback": [
      "\u001b[1;31m---------------------------------------------------------------------------\u001b[0m",
      "\u001b[1;31mNameError\u001b[0m                                 Traceback (most recent call last)",
      "Cell \u001b[1;32mIn[12], line 3\u001b[0m\n\u001b[0;32m      1\u001b[0m df2 \u001b[39m=\u001b[39m df1\u001b[39m.\u001b[39msample(frac \u001b[39m=\u001b[39m\u001b[39m.1\u001b[39m)\n\u001b[0;32m      2\u001b[0m display(df2\u001b[39m.\u001b[39mhead(),df2\u001b[39m.\u001b[39mshape)\n\u001b[1;32m----> 3\u001b[0m df2\u001b[39m.\u001b[39msort_values(by([\u001b[39m'\u001b[39m\u001b[39mEGID\u001b[39m\u001b[39m'\u001b[39m]), inplace\u001b[39m=\u001b[39m\u001b[39mTrue\u001b[39;00m)\n",
      "\u001b[1;31mNameError\u001b[0m: name 'by' is not defined"
     ]
    }
   ],
   "source": [
    "df2 = df1.sample(frac =.1)\n",
    "display(df2.head(),df2.shape)\n",
    "df2.sort_values(by(['EGID']), inplace=True)"
   ]
  },
  {
   "cell_type": "code",
   "execution_count": 13,
   "metadata": {},
   "outputs": [],
   "source": [
    "# save df1 as geojson\n",
    "df2.to_file(r\"indice3ans_epsg_4326_superlight.geojson\", driver='GeoJSON')"
   ]
  }
 ],
 "metadata": {
  "kernelspec": {
   "display_name": "dash",
   "language": "python",
   "name": "python3"
  },
  "language_info": {
   "codemirror_mode": {
    "name": "ipython",
    "version": 3
   },
   "file_extension": ".py",
   "mimetype": "text/x-python",
   "name": "python",
   "nbconvert_exporter": "python",
   "pygments_lexer": "ipython3",
   "version": "3.10.8"
  },
  "orig_nbformat": 4,
  "vscode": {
   "interpreter": {
    "hash": "041436eac330dd7439698ece9eacbcba8b0b97fb888a96553f310b6f4331a150"
   }
  }
 },
 "nbformat": 4,
 "nbformat_minor": 2
}
