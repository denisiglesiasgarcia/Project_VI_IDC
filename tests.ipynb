{
 "cells": [
  {
   "cell_type": "code",
   "execution_count": 1,
   "metadata": {},
   "outputs": [],
   "source": [
    "import pandas as pd\n",
    "from pyproj import Transformer\n",
    "import shapely\n",
    "from geoalchemy2 import Geometry, WKTElement\n",
    "from sqlalchemy import *\n",
    "from dash import Dash, html, dcc, Input, Output, dash_table\n",
    "import dash_bootstrap_components as dbc\n",
    "from dash.dependencies import State\n",
    "import plotly.express as px\n",
    "import pandas as pd\n",
    "import geojson\n",
    "import numpy as np\n",
    "import plotly.graph_objects as go\n",
    "import psycopg2\n",
    "from psycopg2 import sql\n",
    "import psycopg2.extras\n",
    "import geopandas as gpd\n",
    "import json\n",
    "from sqlalchemy import create_engine\n",
    "import matplotlib.pyplot as plt"
   ]
  },
  {
   "cell_type": "code",
   "execution_count": 2,
   "metadata": {},
   "outputs": [],
   "source": [
    "df_amoen = pd.read_excel(r\"C:\\Users\\denis.iglesias\\OneDrive - HESSO\\01 Institution\\02 Projets\\12 AMOén\\03 Projets\\Suivi_projets_AMOen_dernier.xlsx\",sheet_name=\"Vue ensemble\")\n",
    "df_amoen = df_amoen.dropna(subset=['Nom_projet'])\n",
    "dropdown_projet = [{\"label\": val, \"value\": val} for val in df_amoen['Nom_projet'].unique() if val is not None]"
   ]
  },
  {
   "cell_type": "code",
   "execution_count": 3,
   "metadata": {},
   "outputs": [],
   "source": [
    "# préparer df pour stacked bar\n",
    "df_analyse_stacked = df_amoen\n",
    "df_analyse_stacked = df_analyse_stacked[['statut',\n",
    "                                        'Nom_projet',\n",
    "                                         'Ef,obj*fp (Objectif en EF pondérée après) [MJ/m²]',\n",
    "                                         'Ef,après,corr*fp (Conso. mesurée après) [MJ/m²]',\n",
    "                                         ]]\n",
    "df_analyse_stacked = df_analyse_stacked.groupby(['statut']).count()\n",
    "df_analyse_stacked = df_analyse_stacked.reset_index()\n",
    "# Objectif fixé / Réception d'index\n",
    "df_analyse_stacked = df_analyse_stacked.rename(columns={'Ef,obj*fp (Objectif en EF pondérée après) [MJ/m²]': 'Objectif fixé',\n",
    "                                                        'Ef,après,corr*fp (Conso. mesurée après) [MJ/m²]': 'Réception d\\'index'})\n",
    "df_analyse_stacked['Objectif fixé'] = df_analyse_stacked['Objectif fixé'] - df_analyse_stacked['Réception d\\'index']\n",
    "# Finalisé\n",
    "df_analyse_stacked[\"Finalisé\"] = df_analyse_stacked[df_analyse_stacked[\"statut\"] == \"Terminé\"]['Nom_projet']\n",
    "df_analyse_stacked[\"Finalisé\"] = df_analyse_stacked[\"Finalisé\"].fillna(0)\n",
    "df_analyse_stacked[\"Finalisé\"] = df_analyse_stacked[\"Finalisé\"].astype(int)\n",
    "df_analyse_stacked.loc[df_analyse_stacked[\"statut\"] == \"Terminé\", 'Objectif fixé'] = 0\n",
    "df_analyse_stacked.loc[df_analyse_stacked[\"statut\"] == \"Terminé\", 'Réception d\\'index'] = 0\n",
    "# Pas d'objectif fixé\n",
    "df_analyse_stacked[\"Pas d'objectif fixé\"] = df_analyse_stacked['Nom_projet'] - \\\n",
    "                                            df_analyse_stacked['Objectif fixé'] - \\\n",
    "                                            df_analyse_stacked['Réception d\\'index'] - \\\n",
    "                                            df_analyse_stacked['Finalisé']\n",
    "df_analyse_stacked[\"Pas d'objectif fixé\"] = df_analyse_stacked[\"Pas d'objectif fixé\"].fillna(0)\n",
    "df_analyse_stacked[\"Pas d'objectif fixé\"] = df_analyse_stacked[\"Pas d'objectif fixé\"].astype(int)\n",
    "#df_analyse_stacked = df_analyse_stacked.drop(columns=['Nom_projet'])\n",
    "df_analyse_stacked['total'] = df_analyse_stacked['Objectif fixé'] + df_analyse_stacked['Réception d\\'index'] + df_analyse_stacked[\"Pas d'objectif fixé\"] + df_analyse_stacked[\"Finalisé\"]\n",
    "# add in column status at the end a row total that sums all the values\n",
    "df_analyse_stacked = df_analyse_stacked[['statut','Pas d\\'objectif fixé','Objectif fixé', 'Réception d\\'index', 'Finalisé']] #,'total','Nom_projet'\n",
    "# changer ordre des statuts\n",
    "# https://stackoverflow.com/questions/57161380/changing-row-order-in-pandas-dataframe-without-losing-or-messing-up-data\n",
    "cats = ['Etude', \"Demande d’autorisation\", \"En travaux\", \"En exploitation\",\"Terminé\"]\n",
    "df_analyse_stacked['statut'] = pd.CategoricalIndex(df_analyse_stacked['statut'], ordered=True, categories=cats)\n",
    "df_analyse_stacked = df_analyse_stacked.sort_values('statut')\n",
    "# replace in column statut the value Terminé by Finalisé\n",
    "df_analyse_stacked['statut'] = df_analyse_stacked['statut'].replace('Demande d’autorisation', 'Autor.')\n",
    "df_analyse_stacked['statut'] = df_analyse_stacked['statut'].replace('En travaux', 'Travaux')\n",
    "df_analyse_stacked['statut'] = df_analyse_stacked['statut'].replace('En exploitation', 'Exploit.')\n",
    "# reset index\n",
    "df_analyse_stacked = df_analyse_stacked.reset_index(drop=True)"
   ]
  },
  {
   "cell_type": "code",
   "execution_count": 4,
   "metadata": {},
   "outputs": [
    {
     "data": {
      "text/html": [
       "<div>\n",
       "<style scoped>\n",
       "    .dataframe tbody tr th:only-of-type {\n",
       "        vertical-align: middle;\n",
       "    }\n",
       "\n",
       "    .dataframe tbody tr th {\n",
       "        vertical-align: top;\n",
       "    }\n",
       "\n",
       "    .dataframe thead th {\n",
       "        text-align: right;\n",
       "    }\n",
       "</style>\n",
       "<table border=\"1\" class=\"dataframe\">\n",
       "  <thead>\n",
       "    <tr style=\"text-align: right;\">\n",
       "      <th></th>\n",
       "      <th>statut</th>\n",
       "      <th>Pas d'objectif fixé</th>\n",
       "      <th>Objectif fixé</th>\n",
       "      <th>Réception d'index</th>\n",
       "      <th>Finalisé</th>\n",
       "    </tr>\n",
       "  </thead>\n",
       "  <tbody>\n",
       "    <tr>\n",
       "      <th>0</th>\n",
       "      <td>Etude</td>\n",
       "      <td>5</td>\n",
       "      <td>2</td>\n",
       "      <td>0</td>\n",
       "      <td>0</td>\n",
       "    </tr>\n",
       "    <tr>\n",
       "      <th>1</th>\n",
       "      <td>Autor.</td>\n",
       "      <td>5</td>\n",
       "      <td>4</td>\n",
       "      <td>0</td>\n",
       "      <td>0</td>\n",
       "    </tr>\n",
       "    <tr>\n",
       "      <th>2</th>\n",
       "      <td>Travaux</td>\n",
       "      <td>2</td>\n",
       "      <td>5</td>\n",
       "      <td>0</td>\n",
       "      <td>0</td>\n",
       "    </tr>\n",
       "    <tr>\n",
       "      <th>3</th>\n",
       "      <td>Exploit.</td>\n",
       "      <td>1</td>\n",
       "      <td>4</td>\n",
       "      <td>8</td>\n",
       "      <td>0</td>\n",
       "    </tr>\n",
       "    <tr>\n",
       "      <th>4</th>\n",
       "      <td>Terminé</td>\n",
       "      <td>0</td>\n",
       "      <td>0</td>\n",
       "      <td>0</td>\n",
       "      <td>3</td>\n",
       "    </tr>\n",
       "    <tr>\n",
       "      <th>5</th>\n",
       "      <td>NaN</td>\n",
       "      <td>1</td>\n",
       "      <td>0</td>\n",
       "      <td>0</td>\n",
       "      <td>0</td>\n",
       "    </tr>\n",
       "  </tbody>\n",
       "</table>\n",
       "</div>"
      ],
      "text/plain": [
       "     statut  Pas d'objectif fixé  Objectif fixé  Réception d'index  Finalisé\n",
       "0     Etude                    5              2                  0         0\n",
       "1    Autor.                    5              4                  0         0\n",
       "2   Travaux                    2              5                  0         0\n",
       "3  Exploit.                    1              4                  8         0\n",
       "4   Terminé                    0              0                  0         3\n",
       "5       NaN                    1              0                  0         0"
      ]
     },
     "execution_count": 4,
     "metadata": {},
     "output_type": "execute_result"
    }
   ],
   "source": [
    "df_analyse_stacked"
   ]
  },
  {
   "cell_type": "code",
   "execution_count": 5,
   "metadata": {},
   "outputs": [
    {
     "data": {
      "application/vnd.plotly.v1+json": {
       "config": {
        "plotlyServerURL": "https://plot.ly"
       },
       "data": [
        {
         "hoverinfo": "name+x+text",
         "name": "Pas d'objectif fixé",
         "text": [
          5,
          5,
          2,
          1,
          0,
          1
         ],
         "textposition": "auto",
         "type": "bar",
         "x": [
          "Etude",
          "Autor.",
          "Travaux",
          "Exploit.",
          "Terminé",
          null
         ],
         "y": [
          5,
          5,
          2,
          1,
          0,
          1
         ]
        },
        {
         "hoverinfo": "name+x+text",
         "name": "Objectif fixé",
         "text": [
          2,
          4,
          5,
          4,
          0,
          0
         ],
         "textposition": "auto",
         "type": "bar",
         "x": [
          "Etude",
          "Autor.",
          "Travaux",
          "Exploit.",
          "Terminé",
          null
         ],
         "y": [
          2,
          4,
          5,
          4,
          0,
          0
         ]
        },
        {
         "hoverinfo": "name+x+text",
         "name": "Réception d'index",
         "text": [
          0,
          0,
          0,
          8,
          0,
          0
         ],
         "textposition": "auto",
         "type": "bar",
         "x": [
          "Etude",
          "Autor.",
          "Travaux",
          "Exploit.",
          "Terminé",
          null
         ],
         "y": [
          0,
          0,
          0,
          8,
          0,
          0
         ]
        },
        {
         "hoverinfo": "name+x+text",
         "name": "Finalisé",
         "text": [
          0,
          0,
          0,
          0,
          3,
          0
         ],
         "textposition": "auto",
         "type": "bar",
         "x": [
          "Etude",
          "Autor.",
          "Travaux",
          "Exploit.",
          "Terminé",
          null
         ],
         "y": [
          0,
          0,
          0,
          0,
          3,
          0
         ]
        }
       ],
       "layout": {
        "barmode": "stack",
        "template": {
         "data": {
          "bar": [
           {
            "error_x": {
             "color": "#2a3f5f"
            },
            "error_y": {
             "color": "#2a3f5f"
            },
            "marker": {
             "line": {
              "color": "#E5ECF6",
              "width": 0.5
             },
             "pattern": {
              "fillmode": "overlay",
              "size": 10,
              "solidity": 0.2
             }
            },
            "type": "bar"
           }
          ],
          "barpolar": [
           {
            "marker": {
             "line": {
              "color": "#E5ECF6",
              "width": 0.5
             },
             "pattern": {
              "fillmode": "overlay",
              "size": 10,
              "solidity": 0.2
             }
            },
            "type": "barpolar"
           }
          ],
          "carpet": [
           {
            "aaxis": {
             "endlinecolor": "#2a3f5f",
             "gridcolor": "white",
             "linecolor": "white",
             "minorgridcolor": "white",
             "startlinecolor": "#2a3f5f"
            },
            "baxis": {
             "endlinecolor": "#2a3f5f",
             "gridcolor": "white",
             "linecolor": "white",
             "minorgridcolor": "white",
             "startlinecolor": "#2a3f5f"
            },
            "type": "carpet"
           }
          ],
          "choropleth": [
           {
            "colorbar": {
             "outlinewidth": 0,
             "ticks": ""
            },
            "type": "choropleth"
           }
          ],
          "contour": [
           {
            "colorbar": {
             "outlinewidth": 0,
             "ticks": ""
            },
            "colorscale": [
             [
              0,
              "#0d0887"
             ],
             [
              0.1111111111111111,
              "#46039f"
             ],
             [
              0.2222222222222222,
              "#7201a8"
             ],
             [
              0.3333333333333333,
              "#9c179e"
             ],
             [
              0.4444444444444444,
              "#bd3786"
             ],
             [
              0.5555555555555556,
              "#d8576b"
             ],
             [
              0.6666666666666666,
              "#ed7953"
             ],
             [
              0.7777777777777778,
              "#fb9f3a"
             ],
             [
              0.8888888888888888,
              "#fdca26"
             ],
             [
              1,
              "#f0f921"
             ]
            ],
            "type": "contour"
           }
          ],
          "contourcarpet": [
           {
            "colorbar": {
             "outlinewidth": 0,
             "ticks": ""
            },
            "type": "contourcarpet"
           }
          ],
          "heatmap": [
           {
            "colorbar": {
             "outlinewidth": 0,
             "ticks": ""
            },
            "colorscale": [
             [
              0,
              "#0d0887"
             ],
             [
              0.1111111111111111,
              "#46039f"
             ],
             [
              0.2222222222222222,
              "#7201a8"
             ],
             [
              0.3333333333333333,
              "#9c179e"
             ],
             [
              0.4444444444444444,
              "#bd3786"
             ],
             [
              0.5555555555555556,
              "#d8576b"
             ],
             [
              0.6666666666666666,
              "#ed7953"
             ],
             [
              0.7777777777777778,
              "#fb9f3a"
             ],
             [
              0.8888888888888888,
              "#fdca26"
             ],
             [
              1,
              "#f0f921"
             ]
            ],
            "type": "heatmap"
           }
          ],
          "heatmapgl": [
           {
            "colorbar": {
             "outlinewidth": 0,
             "ticks": ""
            },
            "colorscale": [
             [
              0,
              "#0d0887"
             ],
             [
              0.1111111111111111,
              "#46039f"
             ],
             [
              0.2222222222222222,
              "#7201a8"
             ],
             [
              0.3333333333333333,
              "#9c179e"
             ],
             [
              0.4444444444444444,
              "#bd3786"
             ],
             [
              0.5555555555555556,
              "#d8576b"
             ],
             [
              0.6666666666666666,
              "#ed7953"
             ],
             [
              0.7777777777777778,
              "#fb9f3a"
             ],
             [
              0.8888888888888888,
              "#fdca26"
             ],
             [
              1,
              "#f0f921"
             ]
            ],
            "type": "heatmapgl"
           }
          ],
          "histogram": [
           {
            "marker": {
             "pattern": {
              "fillmode": "overlay",
              "size": 10,
              "solidity": 0.2
             }
            },
            "type": "histogram"
           }
          ],
          "histogram2d": [
           {
            "colorbar": {
             "outlinewidth": 0,
             "ticks": ""
            },
            "colorscale": [
             [
              0,
              "#0d0887"
             ],
             [
              0.1111111111111111,
              "#46039f"
             ],
             [
              0.2222222222222222,
              "#7201a8"
             ],
             [
              0.3333333333333333,
              "#9c179e"
             ],
             [
              0.4444444444444444,
              "#bd3786"
             ],
             [
              0.5555555555555556,
              "#d8576b"
             ],
             [
              0.6666666666666666,
              "#ed7953"
             ],
             [
              0.7777777777777778,
              "#fb9f3a"
             ],
             [
              0.8888888888888888,
              "#fdca26"
             ],
             [
              1,
              "#f0f921"
             ]
            ],
            "type": "histogram2d"
           }
          ],
          "histogram2dcontour": [
           {
            "colorbar": {
             "outlinewidth": 0,
             "ticks": ""
            },
            "colorscale": [
             [
              0,
              "#0d0887"
             ],
             [
              0.1111111111111111,
              "#46039f"
             ],
             [
              0.2222222222222222,
              "#7201a8"
             ],
             [
              0.3333333333333333,
              "#9c179e"
             ],
             [
              0.4444444444444444,
              "#bd3786"
             ],
             [
              0.5555555555555556,
              "#d8576b"
             ],
             [
              0.6666666666666666,
              "#ed7953"
             ],
             [
              0.7777777777777778,
              "#fb9f3a"
             ],
             [
              0.8888888888888888,
              "#fdca26"
             ],
             [
              1,
              "#f0f921"
             ]
            ],
            "type": "histogram2dcontour"
           }
          ],
          "mesh3d": [
           {
            "colorbar": {
             "outlinewidth": 0,
             "ticks": ""
            },
            "type": "mesh3d"
           }
          ],
          "parcoords": [
           {
            "line": {
             "colorbar": {
              "outlinewidth": 0,
              "ticks": ""
             }
            },
            "type": "parcoords"
           }
          ],
          "pie": [
           {
            "automargin": true,
            "type": "pie"
           }
          ],
          "scatter": [
           {
            "fillpattern": {
             "fillmode": "overlay",
             "size": 10,
             "solidity": 0.2
            },
            "type": "scatter"
           }
          ],
          "scatter3d": [
           {
            "line": {
             "colorbar": {
              "outlinewidth": 0,
              "ticks": ""
             }
            },
            "marker": {
             "colorbar": {
              "outlinewidth": 0,
              "ticks": ""
             }
            },
            "type": "scatter3d"
           }
          ],
          "scattercarpet": [
           {
            "marker": {
             "colorbar": {
              "outlinewidth": 0,
              "ticks": ""
             }
            },
            "type": "scattercarpet"
           }
          ],
          "scattergeo": [
           {
            "marker": {
             "colorbar": {
              "outlinewidth": 0,
              "ticks": ""
             }
            },
            "type": "scattergeo"
           }
          ],
          "scattergl": [
           {
            "marker": {
             "colorbar": {
              "outlinewidth": 0,
              "ticks": ""
             }
            },
            "type": "scattergl"
           }
          ],
          "scattermapbox": [
           {
            "marker": {
             "colorbar": {
              "outlinewidth": 0,
              "ticks": ""
             }
            },
            "type": "scattermapbox"
           }
          ],
          "scatterpolar": [
           {
            "marker": {
             "colorbar": {
              "outlinewidth": 0,
              "ticks": ""
             }
            },
            "type": "scatterpolar"
           }
          ],
          "scatterpolargl": [
           {
            "marker": {
             "colorbar": {
              "outlinewidth": 0,
              "ticks": ""
             }
            },
            "type": "scatterpolargl"
           }
          ],
          "scatterternary": [
           {
            "marker": {
             "colorbar": {
              "outlinewidth": 0,
              "ticks": ""
             }
            },
            "type": "scatterternary"
           }
          ],
          "surface": [
           {
            "colorbar": {
             "outlinewidth": 0,
             "ticks": ""
            },
            "colorscale": [
             [
              0,
              "#0d0887"
             ],
             [
              0.1111111111111111,
              "#46039f"
             ],
             [
              0.2222222222222222,
              "#7201a8"
             ],
             [
              0.3333333333333333,
              "#9c179e"
             ],
             [
              0.4444444444444444,
              "#bd3786"
             ],
             [
              0.5555555555555556,
              "#d8576b"
             ],
             [
              0.6666666666666666,
              "#ed7953"
             ],
             [
              0.7777777777777778,
              "#fb9f3a"
             ],
             [
              0.8888888888888888,
              "#fdca26"
             ],
             [
              1,
              "#f0f921"
             ]
            ],
            "type": "surface"
           }
          ],
          "table": [
           {
            "cells": {
             "fill": {
              "color": "#EBF0F8"
             },
             "line": {
              "color": "white"
             }
            },
            "header": {
             "fill": {
              "color": "#C8D4E3"
             },
             "line": {
              "color": "white"
             }
            },
            "type": "table"
           }
          ]
         },
         "layout": {
          "annotationdefaults": {
           "arrowcolor": "#2a3f5f",
           "arrowhead": 0,
           "arrowwidth": 1
          },
          "autotypenumbers": "strict",
          "coloraxis": {
           "colorbar": {
            "outlinewidth": 0,
            "ticks": ""
           }
          },
          "colorscale": {
           "diverging": [
            [
             0,
             "#8e0152"
            ],
            [
             0.1,
             "#c51b7d"
            ],
            [
             0.2,
             "#de77ae"
            ],
            [
             0.3,
             "#f1b6da"
            ],
            [
             0.4,
             "#fde0ef"
            ],
            [
             0.5,
             "#f7f7f7"
            ],
            [
             0.6,
             "#e6f5d0"
            ],
            [
             0.7,
             "#b8e186"
            ],
            [
             0.8,
             "#7fbc41"
            ],
            [
             0.9,
             "#4d9221"
            ],
            [
             1,
             "#276419"
            ]
           ],
           "sequential": [
            [
             0,
             "#0d0887"
            ],
            [
             0.1111111111111111,
             "#46039f"
            ],
            [
             0.2222222222222222,
             "#7201a8"
            ],
            [
             0.3333333333333333,
             "#9c179e"
            ],
            [
             0.4444444444444444,
             "#bd3786"
            ],
            [
             0.5555555555555556,
             "#d8576b"
            ],
            [
             0.6666666666666666,
             "#ed7953"
            ],
            [
             0.7777777777777778,
             "#fb9f3a"
            ],
            [
             0.8888888888888888,
             "#fdca26"
            ],
            [
             1,
             "#f0f921"
            ]
           ],
           "sequentialminus": [
            [
             0,
             "#0d0887"
            ],
            [
             0.1111111111111111,
             "#46039f"
            ],
            [
             0.2222222222222222,
             "#7201a8"
            ],
            [
             0.3333333333333333,
             "#9c179e"
            ],
            [
             0.4444444444444444,
             "#bd3786"
            ],
            [
             0.5555555555555556,
             "#d8576b"
            ],
            [
             0.6666666666666666,
             "#ed7953"
            ],
            [
             0.7777777777777778,
             "#fb9f3a"
            ],
            [
             0.8888888888888888,
             "#fdca26"
            ],
            [
             1,
             "#f0f921"
            ]
           ]
          },
          "colorway": [
           "#636efa",
           "#EF553B",
           "#00cc96",
           "#ab63fa",
           "#FFA15A",
           "#19d3f3",
           "#FF6692",
           "#B6E880",
           "#FF97FF",
           "#FECB52"
          ],
          "font": {
           "color": "#2a3f5f"
          },
          "geo": {
           "bgcolor": "white",
           "lakecolor": "white",
           "landcolor": "#E5ECF6",
           "showlakes": true,
           "showland": true,
           "subunitcolor": "white"
          },
          "hoverlabel": {
           "align": "left"
          },
          "hovermode": "closest",
          "mapbox": {
           "style": "light"
          },
          "paper_bgcolor": "white",
          "plot_bgcolor": "#E5ECF6",
          "polar": {
           "angularaxis": {
            "gridcolor": "white",
            "linecolor": "white",
            "ticks": ""
           },
           "bgcolor": "#E5ECF6",
           "radialaxis": {
            "gridcolor": "white",
            "linecolor": "white",
            "ticks": ""
           }
          },
          "scene": {
           "xaxis": {
            "backgroundcolor": "#E5ECF6",
            "gridcolor": "white",
            "gridwidth": 2,
            "linecolor": "white",
            "showbackground": true,
            "ticks": "",
            "zerolinecolor": "white"
           },
           "yaxis": {
            "backgroundcolor": "#E5ECF6",
            "gridcolor": "white",
            "gridwidth": 2,
            "linecolor": "white",
            "showbackground": true,
            "ticks": "",
            "zerolinecolor": "white"
           },
           "zaxis": {
            "backgroundcolor": "#E5ECF6",
            "gridcolor": "white",
            "gridwidth": 2,
            "linecolor": "white",
            "showbackground": true,
            "ticks": "",
            "zerolinecolor": "white"
           }
          },
          "shapedefaults": {
           "line": {
            "color": "#2a3f5f"
           }
          },
          "ternary": {
           "aaxis": {
            "gridcolor": "white",
            "linecolor": "white",
            "ticks": ""
           },
           "baxis": {
            "gridcolor": "white",
            "linecolor": "white",
            "ticks": ""
           },
           "bgcolor": "#E5ECF6",
           "caxis": {
            "gridcolor": "white",
            "linecolor": "white",
            "ticks": ""
           }
          },
          "title": {
           "x": 0.05
          },
          "xaxis": {
           "automargin": true,
           "gridcolor": "white",
           "linecolor": "white",
           "ticks": "",
           "title": {
            "standoff": 15
           },
           "zerolinecolor": "white",
           "zerolinewidth": 2
          },
          "yaxis": {
           "automargin": true,
           "gridcolor": "white",
           "linecolor": "white",
           "ticks": "",
           "title": {
            "standoff": 15
           },
           "zerolinecolor": "white",
           "zerolinewidth": 2
          }
         }
        },
        "title": {
         "text": "Statut des projets AMOén"
        },
        "xaxis": {
         "title": {
          "text": "Statut"
         }
        },
        "yaxis": {
         "title": {
          "text": "Nombre de projets"
         }
        }
       }
      }
     },
     "metadata": {},
     "output_type": "display_data"
    }
   ],
   "source": [
    "bars = []\n",
    "\n",
    "for col in df_analyse_stacked.columns[1:]:    # Iterate over all columns except 'statut'\n",
    "    serie = df_analyse_stacked[col]\n",
    "    bars.append(go.Bar(name=col, x=df_analyse_stacked['statut'] , y=serie, \n",
    "                       text=serie,   # display the serie value as hover text \n",
    "                       textposition='auto',   # automate the position\n",
    "                       hoverinfo='name+x+text'))    # decide what info appears on hover\n",
    "\n",
    "layout_bar_stacked = go.Layout(\n",
    "    barmode='stack', \n",
    "    xaxis=dict(title='Statut'),\n",
    "    yaxis=dict(title='Nombre de projets'),\n",
    ")\n",
    "\n",
    "fig_bars_stacked = go.Figure(data=bars, layout=layout_bar_stacked)\n",
    "fig_bars_stacked.update_layout(\n",
    "    barmode=\"stack\",\n",
    "    title=\"Statut des projets AMOén\"  # set your title here\n",
    ")\n",
    "\n",
    "fig_bars_stacked.show()"
   ]
  },
  {
   "cell_type": "markdown",
   "metadata": {},
   "source": []
  },
  {
   "cell_type": "code",
   "execution_count": 6,
   "metadata": {},
   "outputs": [],
   "source": [
    "df_analyse_bars = df_amoen[['Nom_projet','statut',\n",
    "                         'Ef,avant,corr (IDC_avant) [MJ/m²]',\n",
    "                         'Ef,obj*fp (Objectif en EF pondérée après) [MJ/m²]',\n",
    "                         'Ef,après,corr*fp (Conso. mesurée après) [MJ/m²]',\n",
    "                         'Part atteinte des objectifs [%]']].copy()\n",
    "df_analyse_bars['Baisse IDC visée'] = df_analyse_bars.loc[:, 'Ef,avant,corr (IDC_avant) [MJ/m²]'] - \\\n",
    "                                        df_analyse_bars.loc[:, 'Ef,obj*fp (Objectif en EF pondérée après) [MJ/m²]']\n",
    "df_analyse_bars['Baisse IDC réalisée'] = df_analyse_bars.loc[:, 'Ef,avant,corr (IDC_avant) [MJ/m²]'] - \\\n",
    "                                            df_analyse_bars.loc[:, 'Ef,après,corr*fp (Conso. mesurée après) [MJ/m²]']\n",
    "\n",
    "df_analyse_bars.rename(columns={'Ef,avant,corr (IDC_avant) [MJ/m²]': 'IDC moy 3 ans avant\\n$IDC_{moy3ans}$',\n",
    "                                'Ef,obj*fp (Objectif en EF pondérée après) [MJ/m²]': 'Objectif\\n$E_{f,obj}*f_{p}$',\n",
    "                                'Ef,après,corr*fp (Conso. mesurée après) [MJ/m²]': 'Conso mesurée après\\n$E_{f,après,corr}*f_{p}$'\n",
    "                                },\n",
    "                                inplace=True)\n",
    "df_analyse_bars_exploitation = df_analyse_bars.loc[(df_analyse_bars['statut'] == 'En exploitation') &\n",
    "                                                    (df_analyse_bars['Conso mesurée après\\n$E_{f,après,corr}*f_{p}$'] > 0)]"
   ]
  },
  {
   "cell_type": "code",
   "execution_count": 7,
   "metadata": {},
   "outputs": [
    {
     "ename": "NameError",
     "evalue": "name 'site' is not defined",
     "output_type": "error",
     "traceback": [
      "\u001b[1;31m---------------------------------------------------------------------------\u001b[0m",
      "\u001b[1;31mNameError\u001b[0m                                 Traceback (most recent call last)",
      "\u001b[1;32mc:\\Users\\denis.iglesias\\Documents\\GitHub\\Project_VI_IDC\\tests.ipynb Cellule 8\u001b[0m line \u001b[0;36m1\n\u001b[1;32m----> <a href='vscode-notebook-cell:/c%3A/Users/denis.iglesias/Documents/GitHub/Project_VI_IDC/tests.ipynb#X10sZmlsZQ%3D%3D?line=0'>1</a>\u001b[0m site\n",
      "\u001b[1;31mNameError\u001b[0m: name 'site' is not defined"
     ]
    }
   ],
   "source": [
    "site"
   ]
  },
  {
   "cell_type": "code",
   "execution_count": null,
   "metadata": {},
   "outputs": [
    {
     "name": "stderr",
     "output_type": "stream",
     "text": [
      "c:\\Users\\denis.iglesias\\Documents\\GitHub\\Project_VI_IDC\\graphics\\performance_par_site.py:79: FutureWarning:\n",
      "\n",
      "\n",
      "\n",
      "Passing `palette` without assigning `hue` is deprecated and will be removed in v0.14.0. Assign the `x` variable to `hue` and set `legend=False` for the same effect.\n",
      "\n",
      "\n"
     ]
    },
    {
     "data": {
      "text/html": [
       "<div>\n",
       "<style scoped>\n",
       "    .dataframe tbody tr th:only-of-type {\n",
       "        vertical-align: middle;\n",
       "    }\n",
       "\n",
       "    .dataframe tbody tr th {\n",
       "        vertical-align: top;\n",
       "    }\n",
       "\n",
       "    .dataframe thead th {\n",
       "        text-align: right;\n",
       "    }\n",
       "</style>\n",
       "<table border=\"1\" class=\"dataframe\">\n",
       "  <thead>\n",
       "    <tr style=\"text-align: right;\">\n",
       "      <th></th>\n",
       "      <th>Nom_projet</th>\n",
       "      <th>Type</th>\n",
       "      <th>Valeur</th>\n",
       "    </tr>\n",
       "  </thead>\n",
       "  <tbody>\n",
       "    <tr>\n",
       "      <th>0</th>\n",
       "      <td>Prulay 43 à 47_Batineg</td>\n",
       "      <td>IDC moy 3 ans avant\\n$IDC_{moy3ans}$</td>\n",
       "      <td>449.000</td>\n",
       "    </tr>\n",
       "    <tr>\n",
       "      <th>1</th>\n",
       "      <td>Prulay 43 à 47_Batineg</td>\n",
       "      <td>Objectif\\n$E_{f,obj}*f_{p}$</td>\n",
       "      <td>250.900</td>\n",
       "    </tr>\n",
       "    <tr>\n",
       "      <th>2</th>\n",
       "      <td>Prulay 43 à 47_Batineg</td>\n",
       "      <td>Conso mesurée après\\n$E_{f,après,corr}*f_{p}$</td>\n",
       "      <td>247.900</td>\n",
       "    </tr>\n",
       "    <tr>\n",
       "      <th>3</th>\n",
       "      <td>Prulay 43 à 47_Batineg</td>\n",
       "      <td>Part atteinte des objectifs [%]</td>\n",
       "      <td>1.015</td>\n",
       "    </tr>\n",
       "    <tr>\n",
       "      <th>4</th>\n",
       "      <td>Prulay 43 à 47_Batineg</td>\n",
       "      <td>Baisse IDC visée</td>\n",
       "      <td>198.100</td>\n",
       "    </tr>\n",
       "    <tr>\n",
       "      <th>5</th>\n",
       "      <td>Prulay 43 à 47_Batineg</td>\n",
       "      <td>Baisse IDC réalisée</td>\n",
       "      <td>201.100</td>\n",
       "    </tr>\n",
       "  </tbody>\n",
       "</table>\n",
       "</div>"
      ],
      "text/plain": [
       "               Nom_projet                                           Type  \\\n",
       "0  Prulay 43 à 47_Batineg           IDC moy 3 ans avant\\n$IDC_{moy3ans}$   \n",
       "1  Prulay 43 à 47_Batineg                    Objectif\\n$E_{f,obj}*f_{p}$   \n",
       "2  Prulay 43 à 47_Batineg  Conso mesurée après\\n$E_{f,après,corr}*f_{p}$   \n",
       "3  Prulay 43 à 47_Batineg                Part atteinte des objectifs [%]   \n",
       "4  Prulay 43 à 47_Batineg                               Baisse IDC visée   \n",
       "5  Prulay 43 à 47_Batineg                            Baisse IDC réalisée   \n",
       "\n",
       "    Valeur  \n",
       "0  449.000  \n",
       "1  250.900  \n",
       "2  247.900  \n",
       "3    1.015  \n",
       "4  198.100  \n",
       "5  201.100  "
      ]
     },
     "metadata": {},
     "output_type": "display_data"
    },
    {
     "data": {
      "text/html": [
       "<div>\n",
       "<style scoped>\n",
       "    .dataframe tbody tr th:only-of-type {\n",
       "        vertical-align: middle;\n",
       "    }\n",
       "\n",
       "    .dataframe tbody tr th {\n",
       "        vertical-align: top;\n",
       "    }\n",
       "\n",
       "    .dataframe thead th {\n",
       "        text-align: right;\n",
       "    }\n",
       "</style>\n",
       "<table border=\"1\" class=\"dataframe\">\n",
       "  <thead>\n",
       "    <tr style=\"text-align: right;\">\n",
       "      <th></th>\n",
       "      <th>Nom_projet</th>\n",
       "      <th>Type</th>\n",
       "      <th>Valeur</th>\n",
       "    </tr>\n",
       "  </thead>\n",
       "  <tbody>\n",
       "    <tr>\n",
       "      <th>0</th>\n",
       "      <td>Prulay 43 à 47_Batineg</td>\n",
       "      <td>IDC moy 3 ans avant\\n$IDC_{moy3ans}$</td>\n",
       "      <td>449.0</td>\n",
       "    </tr>\n",
       "    <tr>\n",
       "      <th>1</th>\n",
       "      <td>Prulay 43 à 47_Batineg</td>\n",
       "      <td>Objectif\\n$E_{f,obj}*f_{p}$</td>\n",
       "      <td>250.9</td>\n",
       "    </tr>\n",
       "    <tr>\n",
       "      <th>2</th>\n",
       "      <td>Prulay 43 à 47_Batineg</td>\n",
       "      <td>Conso mesurée après\\n$E_{f,après,corr}*f_{p}$</td>\n",
       "      <td>247.9</td>\n",
       "    </tr>\n",
       "  </tbody>\n",
       "</table>\n",
       "</div>"
      ],
      "text/plain": [
       "               Nom_projet                                           Type  \\\n",
       "0  Prulay 43 à 47_Batineg           IDC moy 3 ans avant\\n$IDC_{moy3ans}$   \n",
       "1  Prulay 43 à 47_Batineg                    Objectif\\n$E_{f,obj}*f_{p}$   \n",
       "2  Prulay 43 à 47_Batineg  Conso mesurée après\\n$E_{f,après,corr}*f_{p}$   \n",
       "\n",
       "   Valeur  \n",
       "0   449.0  \n",
       "1   250.9  \n",
       "2   247.9  "
      ]
     },
     "metadata": {},
     "output_type": "display_data"
    },
    {
     "data": {
      "text/html": [
       "<div>\n",
       "<style scoped>\n",
       "    .dataframe tbody tr th:only-of-type {\n",
       "        vertical-align: middle;\n",
       "    }\n",
       "\n",
       "    .dataframe tbody tr th {\n",
       "        vertical-align: top;\n",
       "    }\n",
       "\n",
       "    .dataframe thead th {\n",
       "        text-align: right;\n",
       "    }\n",
       "</style>\n",
       "<table border=\"1\" class=\"dataframe\">\n",
       "  <thead>\n",
       "    <tr style=\"text-align: right;\">\n",
       "      <th></th>\n",
       "      <th>Nom_projet</th>\n",
       "      <th>Type</th>\n",
       "      <th>Valeur</th>\n",
       "    </tr>\n",
       "  </thead>\n",
       "  <tbody>\n",
       "    <tr>\n",
       "      <th>3</th>\n",
       "      <td>Prulay 43 à 47_Batineg</td>\n",
       "      <td>Part atteinte des objectifs [%]</td>\n",
       "      <td>1.015</td>\n",
       "    </tr>\n",
       "  </tbody>\n",
       "</table>\n",
       "</div>"
      ],
      "text/plain": [
       "               Nom_projet                             Type  Valeur\n",
       "3  Prulay 43 à 47_Batineg  Part atteinte des objectifs [%]   1.015"
      ]
     },
     "metadata": {},
     "output_type": "display_data"
    },
    {
     "data": {
      "text/plain": [
       "101"
      ]
     },
     "metadata": {},
     "output_type": "display_data"
    }
   ],
   "source": [
    "from graphics.performance_par_site import performance_par_site\n",
    "\n",
    "site = \"Prulay 43 à 47_Batineg\"\n",
    "site1 = \"Valais 7-11\"\n",
    "sauvegarde_png, bar_data, bar_data1, bar_data2, perf_atteinte  = performance_par_site(df_amoen, site)\n",
    "\n",
    "display(bar_data)\n",
    "display(bar_data1)\n",
    "display(bar_data2)\n",
    "display(perf_atteinte)\n",
    "\n"
   ]
  },
  {
   "cell_type": "code",
   "execution_count": null,
   "metadata": {},
   "outputs": [
    {
     "data": {
      "text/html": [
       "<div>\n",
       "<style scoped>\n",
       "    .dataframe tbody tr th:only-of-type {\n",
       "        vertical-align: middle;\n",
       "    }\n",
       "\n",
       "    .dataframe tbody tr th {\n",
       "        vertical-align: top;\n",
       "    }\n",
       "\n",
       "    .dataframe thead th {\n",
       "        text-align: right;\n",
       "    }\n",
       "</style>\n",
       "<table border=\"1\" class=\"dataframe\">\n",
       "  <thead>\n",
       "    <tr style=\"text-align: right;\">\n",
       "      <th></th>\n",
       "      <th>Nom_projet</th>\n",
       "      <th>Type</th>\n",
       "      <th>Valeur</th>\n",
       "    </tr>\n",
       "  </thead>\n",
       "  <tbody>\n",
       "    <tr>\n",
       "      <th>0</th>\n",
       "      <td>Valais 7-11</td>\n",
       "      <td>IDC moy 3 ans avant\\n$IDC_{moy3ans}$</td>\n",
       "      <td>0.0</td>\n",
       "    </tr>\n",
       "    <tr>\n",
       "      <th>1</th>\n",
       "      <td>Valais 7-11</td>\n",
       "      <td>Objectif\\n$E_{f,obj}*f_{p}$</td>\n",
       "      <td>0.0</td>\n",
       "    </tr>\n",
       "    <tr>\n",
       "      <th>2</th>\n",
       "      <td>Valais 7-11</td>\n",
       "      <td>Conso mesurée après\\n$E_{f,après,corr}*f_{p}$</td>\n",
       "      <td>0.0</td>\n",
       "    </tr>\n",
       "    <tr>\n",
       "      <th>3</th>\n",
       "      <td>Valais 7-11</td>\n",
       "      <td>Part atteinte des objectifs [%]</td>\n",
       "      <td>0.0</td>\n",
       "    </tr>\n",
       "    <tr>\n",
       "      <th>4</th>\n",
       "      <td>Valais 7-11</td>\n",
       "      <td>Baisse IDC visée</td>\n",
       "      <td>0.0</td>\n",
       "    </tr>\n",
       "    <tr>\n",
       "      <th>5</th>\n",
       "      <td>Valais 7-11</td>\n",
       "      <td>Baisse IDC réalisée</td>\n",
       "      <td>0.0</td>\n",
       "    </tr>\n",
       "  </tbody>\n",
       "</table>\n",
       "</div>"
      ],
      "text/plain": [
       "    Nom_projet                                           Type  Valeur\n",
       "0  Valais 7-11           IDC moy 3 ans avant\\n$IDC_{moy3ans}$     0.0\n",
       "1  Valais 7-11                    Objectif\\n$E_{f,obj}*f_{p}$     0.0\n",
       "2  Valais 7-11  Conso mesurée après\\n$E_{f,après,corr}*f_{p}$     0.0\n",
       "3  Valais 7-11                Part atteinte des objectifs [%]     0.0\n",
       "4  Valais 7-11                               Baisse IDC visée     0.0\n",
       "5  Valais 7-11                            Baisse IDC réalisée     0.0"
      ]
     },
     "metadata": {},
     "output_type": "display_data"
    },
    {
     "name": "stderr",
     "output_type": "stream",
     "text": [
      "C:\\Users\\denis.iglesias\\AppData\\Local\\Temp\\ipykernel_38068\\323964186.py:84: FutureWarning:\n",
      "\n",
      "\n",
      "\n",
      "Passing `palette` without assigning `hue` is deprecated and will be removed in v0.14.0. Assign the `x` variable to `hue` and set `legend=False` for the same effect.\n",
      "\n",
      "\n",
      "C:\\Users\\denis.iglesias\\AppData\\Local\\Temp\\ipykernel_38068\\323964186.py:166: RuntimeWarning:\n",
      "\n",
      "invalid value encountered in scalar divide\n",
      "\n"
     ]
    },
    {
     "data": {
      "image/png": "[encoded data removed]",
      "text/plain": [
       "<Figure size 1181.1x559.055 with 1 Axes>"
      ]
     },
     "metadata": {},
     "output_type": "display_data"
    }
   ],
   "source": [
    "import pandas as pd\n",
    "import matplotlib.pyplot as plt\n",
    "from pathlib import PureWindowsPath\n",
    "import numpy as np\n",
    "import seaborn as sns\n",
    "from datetime import datetime\n",
    "import os\n",
    "from datetime import date\n",
    "\n",
    "site = \"Valais 7-11\"\n",
    "\n",
    "now = datetime.now()\n",
    "date_png = str(now.strftime(\"%Y-%m-%d\"))\n",
    "date_titre = str(now.strftime(\"%d-%m-%Y\"))\n",
    "# Create a new directory with the current date as its name\n",
    "today = date.today()\n",
    "directory = os.path.join('01_graphiques\\\\01_performance_par_site\\\\', today.strftime(\"%Y-%m-%d\"))\n",
    "if not os.path.exists(directory):\n",
    "    os.makedirs(directory)\n",
    "\n",
    "df_analyse_bars = df_amoen[['Nom_projet','statut',\n",
    "                        'Ef,avant,corr (IDC_avant) [MJ/m²]',\n",
    "                        'Ef,obj*fp (Objectif en EF pondérée après) [MJ/m²]',\n",
    "                        'Ef,après,corr*fp (Conso. mesurée après) [MJ/m²]',\n",
    "                        'Part atteinte des objectifs [%]']].copy()\n",
    "df_analyse_bars['Baisse IDC visée'] = df_analyse_bars.loc[:, 'Ef,avant,corr (IDC_avant) [MJ/m²]'] - \\\n",
    "                                        df_analyse_bars.loc[:, 'Ef,obj*fp (Objectif en EF pondérée après) [MJ/m²]']\n",
    "df_analyse_bars['Baisse IDC réalisée'] = df_analyse_bars.loc[:, 'Ef,avant,corr (IDC_avant) [MJ/m²]'] - \\\n",
    "                                            df_analyse_bars.loc[:, 'Ef,après,corr*fp (Conso. mesurée après) [MJ/m²]']\n",
    "\n",
    "df_analyse_bars.rename(columns={'Ef,avant,corr (IDC_avant) [MJ/m²]': 'IDC moy 3 ans avant\\n$IDC_{moy3ans}$',\n",
    "                                'Ef,obj*fp (Objectif en EF pondérée après) [MJ/m²]': 'Objectif\\n$E_{f,obj}*f_{p}$',\n",
    "                                'Ef,après,corr*fp (Conso. mesurée après) [MJ/m²]': 'Conso mesurée après\\n$E_{f,après,corr}*f_{p}$'\n",
    "                                },\n",
    "                                inplace=True)\n",
    "df_analyse_bars.fillna(0, inplace=True)\n",
    "\n",
    "#sauvegarde_png = PureWindowsPath (r\"01_graphiques\\\\01_performance_par_site\\\\03_bars_par_site_\" + site + '-' + date_png + '.png')\n",
    "sauvegarde_png = os.path.join(directory, \"01_performance_par_site_\" + site + '-' + date_png + '.png')\n",
    "\n",
    "# filtrer les données selon besoins\n",
    "bar_data = df_analyse_bars[df_analyse_bars['Nom_projet'] == site]\n",
    "bar_data = bar_data.drop(columns=['statut'])\n",
    "\n",
    "# stack pour adapter les données pour le graphique\n",
    "# https://stackoverflow.com/questions/66998010/how-to-pivot-from-columns-to-rows-in-pandas\n",
    "bar_data = bar_data.set_index (['Nom_projet'])\n",
    "bar_data = bar_data.stack().rename_axis (['Nom_projet','Type']).reset_index()\n",
    "bar_data.rename(columns={0: 'Valeur'},inplace=True)\n",
    "\n",
    "display(bar_data)\n",
    "# Séparer les données pour le graphique\n",
    "bar_data1 = bar_data[(bar_data['Type'] != 'Part atteinte des objectifs [%]')]\n",
    "bar_data1 = bar_data1[(bar_data1['Type'] != 'Baisse IDC réalisée')]\n",
    "bar_data1 = bar_data1[(bar_data1['Type'] != 'Baisse IDC visée')]\n",
    "\n",
    "bar_data2 = bar_data[(bar_data['Type'] == 'Part atteinte des objectifs [%]')]\n",
    "\n",
    "bar_data.sort_values (by=['Type'])\n",
    "\n",
    "\n",
    "\n",
    "# https://stackoverflow.com/questions/21923524/extracting-single-value-from-column-in-pandas\n",
    "perf_atteinte = bar_data2['Valeur'].values[bar_data2['Type'] == 'Part atteinte des objectifs [%]']\n",
    "try:\n",
    "    perf_atteinte = int(perf_atteinte * 100)\n",
    "except TypeError:\n",
    "    bar_data['Valeur'][2] = 0\n",
    "    bar_data['Valeur'][3] = 0\n",
    "    bar_data['Valeur'][5] = 0\n",
    "\n",
    "    bar_data1['Valeur'][2] = 0\n",
    "\n",
    "    bar_data2['Valeur'][0] = 0\n",
    "\n",
    "# taille graphique 16/9 avec les bords adapté page word paysage\n",
    "\n",
    "# Générer histogramme. taillebin est utilisé pour uniformiser le format de l'histogramme et que les axes\n",
    "# correspondent bien à la largeur des barres (bin)\n",
    "cm = 1 / 2.54\n",
    "sns.set (style='white',rc={\"figure.figsize\":(30* cm, 14.2 * cm)})\n",
    "# ax1 = sns.catplot(x='Nom_projet', y='Valeur', hue='Type', kind='bar', data=bar_data1)\n",
    "\n",
    "ax = sns.barplot (y=\"Valeur\",\n",
    "                    x=\"Type\",\n",
    "                    data=bar_data1,\n",
    "                    order=['IDC moy 3 ans avant\\n$IDC_{moy3ans}$',\"Objectif\\n$E_{f,obj}*f_{p}$\",'Conso mesurée après\\n$E_{f,après,corr}*f_{p}$'],\n",
    "                    palette=\"pastel\",\n",
    "                    legend=False)\n",
    "\n",
    "sns.despine()\n",
    "\n",
    "ax.bar_label (ax.containers[0])\n",
    "\n",
    "height_line85 = bar_data['Valeur'][0] - bar_data['Valeur'][4]*0.85\n",
    "text_line85 = '$(E_{f,après,corr}*f_{p})_{max→subv.}=$' + '$' + str(np.round(bar_data['Valeur'][0] - bar_data['Valeur'][4]*0.85, 1)) + ' {MJ/m}^2$'\n",
    "ax.axhline (height_line85, xmin=0.445, xmax=0.98, color='indigo', linestyle=(0, (5, 10)), linewidth=0.7)\n",
    "# Add text near the line.\n",
    "offset_85 = 1\n",
    "ax.annotate(text_line85, xy=(2, height_line85 + offset_85), xytext=(1.57, height_line85 + offset_85),\n",
    "            horizontalalignment='right', verticalalignment='bottom', fontsize=10, color='indigo')\n",
    "\n",
    "####################\n",
    "\n",
    "# première flèche\n",
    "# find the height of the first and third bars\n",
    "first_bar_height = bar_data['Valeur'][bar_data['Type'] == 'IDC moy 3 ans avant\\n$IDC_{moy3ans}$'].values[0]\n",
    "second_bar_height = bar_data['Valeur'][bar_data['Type'] == 'Objectif\\n$E_{f,obj}*f_{p}$'].values[0]\n",
    "# set the x-coordinate for the third bar\n",
    "x_coord_second_bar = 0.8  # this depends on the actual x-coordinate of the third bar\n",
    "# text for the arrow\n",
    "text_arrow_baisse_realisee = \"Baisse\\nobjectif\\n\"+str('{:.1f}'.format(bar_data['Valeur'][4])) + \" MJ/m²\"\n",
    "# add text at the midpoint of the arrow\n",
    "midpoint_height = (first_bar_height + second_bar_height) / 2\n",
    "# plot the line (arrow without arrowheads)\n",
    "ax.annotate(\"\", xy=(x_coord_second_bar, second_bar_height), xytext=(x_coord_second_bar, first_bar_height),\n",
    "            arrowprops=dict(arrowstyle=\"<->\", color='moccasin', lw=3))  # increase lw for a thicker line\n",
    "# add the text over the line and centered\n",
    "u = ax.text(x_coord_second_bar, midpoint_height, text_arrow_baisse_realisee, ha='center', va='center', rotation=0,\n",
    "        bbox=dict(boxstyle=\"round,pad=0.3\", fc=\"white\", ec=\"white\", lw=2))\n",
    "\n",
    "# deuxième flèche\n",
    "# find the height of the first and third bars\n",
    "third_bar_height = bar_data['Valeur'][bar_data['Type'] == 'Conso mesurée après\\n$E_{f,après,corr}*f_{p}$'].values[0]\n",
    "# set the x-coordinate for the third bar\n",
    "x_coord_third_bar = 1.8  # this depends on the actual x-coordinate of the third bar\n",
    "# text for the arrow\n",
    "text_arrow_baisse_realisee = \"Baisse\\nmesurée\\n\"+str('{:.1f}'.format(bar_data['Valeur'][5])) + \" MJ/m²\"\n",
    "# add text at the midpoint of the arrow\n",
    "midpoint_height = (first_bar_height + third_bar_height) / 2\n",
    "# plot the line (arrow without arrowheads)\n",
    "ax.annotate(\"\", xy=(x_coord_third_bar, third_bar_height), xytext=(x_coord_third_bar, first_bar_height),\n",
    "            arrowprops=dict(arrowstyle=\"->\", color='lightgreen', lw=4))  # increase lw for a thicker line\n",
    "# add the text over the line and centered\n",
    "u = ax.text(x_coord_third_bar, midpoint_height, text_arrow_baisse_realisee, ha='center', va='center', rotation=0,\n",
    "        bbox=dict(boxstyle=\"round,pad=0.3\", fc=\"lime\", ec=\"lime\", lw=2))\n",
    "\n",
    "#####################\n",
    "# titres\n",
    "# titre de l'histogramme\n",
    "title_text = str('{:.1f}'.format(bar_data['Valeur'][3]*100)) + \"% de l'objectif atteint\"\n",
    "title_color = 'darkgreen' if bar_data['Valeur'][3]*100 >= 85 else 'red'\n",
    "\n",
    "plt.title(title_text, weight='bold', color=title_color, loc='center', pad=15, fontsize=14, y=0.925)\n",
    "\n",
    "# sous-titre\n",
    "plt.suptitle(site, fontsize=16, x=0.515, y=0.99)\n",
    "# Modifier l'espacement entre sous-titre et titre\n",
    "plt.subplots_adjust (top=.945, bottom=.17, left=.06, right=.97, hspace=.2, wspace=.2)\n",
    "\n",
    "# date de génération du graphique\n",
    "now = datetime.now()\n",
    "date_str = str(now.strftime(\"%d-%m-%Y\"))\n",
    "ax.text(1.0, -0.24, date_str, transform=ax.transAxes,\n",
    "    ha='right', va='bottom', fontsize=8)\n",
    "\n",
    "# titre pour l'abscisse X\n",
    "plt.xlabel(\"\\nBaisse d'IDC minimum pour obtenir la subvention = 85% * \" +\n",
    "            str('{:.1f}'.format(bar_data['Valeur'][4])) + \" = \" +\n",
    "            str('{:.1f}'.format(bar_data['Valeur'][4]*0.85)) + ' MJ/m² \\n$E_{f,après,corr}*f_{p}$ maximum pour obtenir la subvention ($(E_{f,après,corr}*f_{p})_{max→subv.}$) = ' +\n",
    "            str('{:.1f}'.format(bar_data['Valeur'][0])) + \" - \" +\n",
    "            str('{:.1f}'.format(bar_data['Valeur'][4]*0.85)) + \" = \" +\n",
    "            str('{:.1f}'.format(bar_data['Valeur'][0] - bar_data['Valeur'][4]*0.85)) + \" MJ/m²\\nPourcentage de l'objectif atteint = \" +\n",
    "            str('{:.1f}'.format(bar_data['Valeur'][5])) + \" / \" + \n",
    "            str('{:.1f}'.format(bar_data['Valeur'][4]))+ \" * 100 = \" +\n",
    "            str('{:.1f}'.format(bar_data['Valeur'][5]/bar_data['Valeur'][4]*100)) + \"%\", \n",
    "            loc='left', size=9)\n",
    "# titre pour l'ordonnée Y\n",
    "plt.ylabel(\"[MJ/m²/an]\")\n",
    "\n",
    "\n",
    "# sauvegarder graphique\n",
    "#plt.savefig (sauvegarde_png,dpi=600)\n",
    "plt.show()\n",
    "\n",
    "# nettoyage\n",
    "plt.close()"
   ]
  },
  {
   "cell_type": "code",
   "execution_count": null,
   "metadata": {},
   "outputs": [
    {
     "data": {
      "text/plain": [
       "['Saule 99-101 et 81-85',\n",
       " 'Lully 2_coopérative',\n",
       " 'Lausanne 42-44_Implenia',\n",
       " 'Bossons 82-88_RG',\n",
       " 'Clochette 6_CAP',\n",
       " 'Montagne 70-82_Wincasa',\n",
       " 'Golette 20_Meyrin',\n",
       " 'Michel-Chauvet 6-8_Rentes Genevoises',\n",
       " 'Montagne 4-10_Mathez',\n",
       " 'Avusy_Avusy',\n",
       " 'Lamartine 27_Bersier',\n",
       " 'Prieuré 22_Caisse de Police',\n",
       " 'Poste_Collex-Bossy',\n",
       " 'Fournil Romand',\n",
       " 'Prulay 37 à 41_Batineg',\n",
       " 'Prulay 43 à 47_Batineg']"
      ]
     },
     "execution_count": 13,
     "metadata": {},
     "output_type": "execute_result"
    }
   ],
   "source": [
    "# fix this: df_amoen[[((df_amoen['statut'] == 'En exploitation']) | (df_amoen['statut'] == 'Terminé'))]]\n",
    "\n",
    "liste_termine_exploitation = df_amoen[(df_amoen['statut'] == 'En exploitation') | (df_amoen['statut'] == 'Terminé')]['Nom_projet'].to_list()\n"
   ]
  },
  {
   "cell_type": "code",
   "execution_count": 6,
   "metadata": {},
   "outputs": [],
   "source": [
    "analyse_xlsx = PureWindowsPath (\n",
    "    r\"C:\\Users\\denis.iglesias\\OneDrive - HESSO\\01 Institution\\02 Projets\\12 AMOén\\03 Projets\\Suivi_projets_AMOen_dernier.xlsx\")\n",
    "df_amoen = pd.read_excel (analyse_xlsx)"
   ]
  },
  {
   "cell_type": "code",
   "execution_count": 16,
   "metadata": {},
   "outputs": [
    {
     "data": {
      "text/plain": [
       "['Saule 99-101 et 81-85',\n",
       " 'Bossons 82-88_RG',\n",
       " 'Michel-Chauvet 6-8_Rentes Genevoises',\n",
       " 'Lully 2_coopérative',\n",
       " 'Lausanne 42-44_Implenia',\n",
       " 'Clochette 6_CAP',\n",
       " 'Golette 20_Meyrin',\n",
       " 'Montagne 4-10_Mathez',\n",
       " 'Lamartine 27_Bersier',\n",
       " 'Prulay 37 à 41_Batineg',\n",
       " 'Prulay 43 à 47_Batineg']"
      ]
     },
     "execution_count": 16,
     "metadata": {},
     "output_type": "execute_result"
    }
   ],
   "source": [
    "df_amoen[(df_amoen['statut'].isin(['En exploitation', 'Terminé'])) &\n",
    "                       df_amoen['Part atteinte des objectifs [%]'].notna()].sort_values(by=['statut'], ascending=False)['Nom_projet'].to_list()\n"
   ]
  },
  {
   "cell_type": "code",
   "execution_count": null,
   "metadata": {},
   "outputs": [],
   "source": []
  }
 ],
 "metadata": {
  "kernelspec": {
   "display_name": "dashidc",
   "language": "python",
   "name": "python3"
  },
  "language_info": {
   "codemirror_mode": {
    "name": "ipython",
    "version": 3
   },
   "file_extension": ".py",
   "mimetype": "text/x-python",
   "name": "python",
   "nbconvert_exporter": "python",
   "pygments_lexer": "ipython3",
   "version": "3.11.4"
  },
  "orig_nbformat": 4
 },
 "nbformat": 4,
 "nbformat_minor": 2
}
